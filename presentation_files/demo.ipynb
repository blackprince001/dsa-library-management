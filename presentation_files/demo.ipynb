{
 "cells": [
  {
   "cell_type": "code",
   "execution_count": null,
   "metadata": {
    "slideshow": {
     "slide_type": "slide"
    }
   },
   "outputs": [],
   "source": [
    "# group and project introduction"
   ]
  },
  {
   "cell_type": "code",
   "execution_count": null,
   "metadata": {
    "slideshow": {
     "slide_type": "slide"
    }
   },
   "outputs": [],
   "source": [
    "# plan for the project"
   ]
  },
  {
   "cell_type": "code",
   "execution_count": null,
   "metadata": {
    "slideshow": {
     "slide_type": "slide"
    }
   },
   "outputs": [],
   "source": [
    "import sys\n",
    "from pathlib import Path\n",
    "\n",
    "sys.path.insert(0, str(Path(__file__).resolve().parent.parent))"
   ]
  },
  {
   "cell_type": "code",
   "execution_count": null,
   "metadata": {
    "slideshow": {
     "slide_type": "slide"
    }
   },
   "outputs": [],
   "source": [
    "from manager.database.schemas.users import (\n",
    "    Admin,\n",
    "    AdminCreate,\n",
    "    UserCreate,\n",
    "    User as UserSchema,\n",
    ")\n",
    "from manager.database.schemas.library import Library\n",
    "from manager.database.crud.book import (\n",
    "    get_book_by_name,\n",
    "    get_books\n",
    ")\n",
    "from manager.database.models import Base, User as UserModel\n",
    "from manager.database.crud.user import (\n",
    "    create_user,\n",
    "    get_admins,\n",
    "    get_user_by_username,\n",
    "    get_users,\n",
    ")\n",
    "from manager.database.crud.borrowed_book import (\n",
    "    create_borrowed_book,\n",
    "    remove_borrowed_book,\n",
    "    get_borrowed_books,\n",
    "    get_borrowed_books_admin,\n",
    ")\n",
    "from manager.database.core import engine\n",
    "from sqlalchemy import select\n",
    "from sqlalchemy.orm import Session\n",
    "from sqlalchemy.exc import IntegrityError\n",
    "from getpass import getpass"
   ]
  },
  {
   "cell_type": "code",
   "execution_count": null,
   "metadata": {
    "slideshow": {
     "slide_type": "slide"
    }
   },
   "outputs": [],
   "source": [
    "# diagram for how the database will look like"
   ]
  },
  {
   "cell_type": "code",
   "execution_count": null,
   "metadata": {
    "slideshow": {
     "slide_type": "subslide"
    }
   },
   "outputs": [],
   "source": [
    "# activating the base engine for the database\n",
    "Base.metadata.create_all(bind=engine)"
   ]
  },
  {
   "cell_type": "code",
   "execution_count": null,
   "metadata": {
    "slideshow": {
     "slide_type": "slide"
    }
   },
   "outputs": [],
   "source": [
    "def get_db():\n",
    "    with Session(engine) as session:\n",
    "        return session"
   ]
  },
  {
   "cell_type": "code",
   "execution_count": null,
   "metadata": {
    "slideshow": {
     "slide_type": "slide"
    }
   },
   "outputs": [],
   "source": [
    "GROUP_MEMBERS = {\n",
    "    \"prince\": \"admin1\",\n",
    "    \"richard\": \"admin2\",\n",
    "    \"elorm\": \"admin3\",\n",
    "    \"emmanuel\": \"admin4\",\n",
    "    \"henry\": \"admin5\",\n",
    "    \"joshua\": \"admin6\",\n",
    "}\n",
    "\n",
    "\n",
    "def d_create_default_admins():\n",
    "    db = get_db()\n",
    "\n",
    "    if not db.scalars(select(UserModel).where(UserModel.is_admin == True)).all():\n",
    "        for admin, password in GROUP_MEMBERS.items():\n",
    "            create_user(db=db, user=AdminCreate(username=admin, password=password))\n"
   ]
  },
  {
   "cell_type": "code",
   "execution_count": null,
   "metadata": {
    "slideshow": {
     "slide_type": "slide"
    }
   },
   "outputs": [],
   "source": [
    "# beginning the interface explanation"
   ]
  },
  {
   "cell_type": "code",
   "execution_count": null,
   "metadata": {
    "slideshow": {
     "slide_type": "subslide"
    }
   },
   "outputs": [],
   "source": [
    "def show_main_menu():\n",
    "    print(\"\\nWelcome\")\n",
    "\n",
    "    while True:\n",
    "\n",
    "        options = \"\\n\".join(\n",
    "            (\n",
    "                \"1. Log in\",\n",
    "                \"2. Sign up\",\n",
    "                \"3. Quit\",\n",
    "            )\n",
    "        )\n",
    "        print(options)\n",
    "        choice = input(\"What to do?: \")\n",
    "\n",
    "        match choice:\n",
    "            case \"1\":\n",
    "                login()\n",
    "            case \"2\":\n",
    "                sign_up()\n",
    "            case \"3\":\n",
    "                sys.exit()\n",
    "            case _:\n",
    "                print(\"Invalid entry\")\n",
    "                show_main_menu()"
   ]
  },
  {
   "cell_type": "code",
   "execution_count": null,
   "metadata": {
    "slideshow": {
     "slide_type": "slide"
    }
   },
   "outputs": [],
   "source": [
    "# explaining certain functionalities"
   ]
  },
  {
   "cell_type": "code",
   "execution_count": null,
   "metadata": {
    "slideshow": {
     "slide_type": "subslide"
    }
   },
   "outputs": [],
   "source": [
    "def login():\n",
    "    print(\"\\nLogging in\\n\")\n",
    "    username = input(\"Username: \")\n",
    "    password = getpass()\n",
    "\n",
    "    user = get_user_by_username(db=get_db(), username=username)\n",
    "\n",
    "    print(user)\n",
    "    if user is None:\n",
    "        print(\"Incorrect username or password\")\n",
    "        return\n",
    "\n",
    "    if not Password.verify(password, user.password):\n",
    "        print(\"Incorrect username or password\")\n",
    "        return\n",
    "\n",
    "    if user.is_admin:\n",
    "        return view_library_as_admin(user)\n",
    "\n",
    "    return view_library(user)\n"
   ]
  },
  {
   "cell_type": "code",
   "execution_count": null,
   "metadata": {
    "slideshow": {
     "slide_type": "slide"
    }
   },
   "outputs": [],
   "source": [
    "# more explanations"
   ]
  },
  {
   "cell_type": "code",
   "execution_count": null,
   "metadata": {
    "slideshow": {
     "slide_type": "subslide"
    }
   },
   "outputs": [],
   "source": [
    "def sign_up():\n",
    "    username = input(\"Username: \")\n",
    "    password = getpass()\n",
    "\n",
    "    if password != getpass(\"Repeat password: \"):\n",
    "        print(\"Passwords do not match\")\n",
    "        sys.exit()\n",
    "\n",
    "    with Session(engine) as db:\n",
    "        try:\n",
    "            create_user(\n",
    "                db=db,\n",
    "                user=UserCreate(\n",
    "                    username=username,\n",
    "                    password=password,\n",
    "                ),\n",
    "            )\n",
    "        except IntegrityError:\n",
    "            print(\"Username already registered\")\n",
    "            sys.exit()\n",
    "\n",
    "        print(\"Account created successfully\")\n",
    "\n",
    "    login()\n"
   ]
  },
  {
   "cell_type": "code",
   "execution_count": null,
   "metadata": {
    "slideshow": {
     "slide_type": "slide"
    }
   },
   "outputs": [],
   "source": [
    "# I have explained saa mabr3"
   ]
  },
  {
   "cell_type": "code",
   "execution_count": null,
   "metadata": {
    "slideshow": {
     "slide_type": "subslide"
    }
   },
   "outputs": [],
   "source": [
    "def view_library_as_admin(admin: Admin):\n",
    "    db = get_db()\n",
    "\n",
    "    library = Library(\n",
    "        admins=get_admins(db=db),\n",
    "        users=get_users(db=db),\n",
    "        books=get_books(db=db),\n",
    "        borrowed_books=get_borrowed_books_admin(db=db),\n",
    "    )\n",
    "\n",
    "    print(f\"\\nHello, admin: {admin.username}\\n\")\n",
    "\n",
    "    while True:\n",
    "\n",
    "        options = \"\\n\".join(\n",
    "            (\n",
    "                \"1. Create an admin account\",\n",
    "                \"2. View all books\",\n",
    "                \"3. View borrowed books\",\n",
    "                \"4. Logout\",\n",
    "            )\n",
    "        )\n",
    "\n",
    "        print(options)\n",
    "        choice = input(\"What to do?: \")\n",
    "\n",
    "        match choice:\n",
    "            case \"1\":\n",
    "                username = input(\"\\nUsername: \")\n",
    "                password = getpass()\n",
    "\n",
    "                if password != getpass(\"\\nRepeat password: \"):\n",
    "                    print(\"Passwords do not match\")\n",
    "                    view_library_as_admin()\n",
    "\n",
    "                create_user(\n",
    "                    db=db, user=AdminCreate(username=username, password=password)\n",
    "                )\n",
    "            case \"2\":\n",
    "                print(f\"\\nLoading Book Catalog:\\n{library.books}\")\n",
    "            case \"3\":\n",
    "                print(f\"\\nThese books have been Borrowed:\\n{library.borrowed_books}\")\n",
    "            case \"4\":\n",
    "                show_main_menu()\n",
    "            case _:\n",
    "                print(\"Invalid entry, try again!\")"
   ]
  },
  {
   "cell_type": "code",
   "execution_count": null,
   "metadata": {
    "slideshow": {
     "slide_type": "slide"
    }
   },
   "outputs": [],
   "source": [
    "# wode3 last one"
   ]
  },
  {
   "cell_type": "code",
   "execution_count": null,
   "metadata": {
    "slideshow": {
     "slide_type": "subslide"
    }
   },
   "outputs": [],
   "source": [
    "def view_library(user: UserSchema):\n",
    "    db = get_db()\n",
    "\n",
    "    library = Library(\n",
    "        admins=[],\n",
    "        users=get_users(db=db),\n",
    "        books=get_books(db=db),\n",
    "    )\n",
    "\n",
    "    print(f\"\\nHello, user: {user.username}\\n\")\n",
    "\n",
    "    while True:\n",
    "\n",
    "        print(\"\\n\", \"*\" * 30)\n",
    "        options = \"\\n\".join(\n",
    "            (\n",
    "                \"1. View available books\",\n",
    "                \"2. View borrowed books\",\n",
    "                \"3. Borrow a book\",\n",
    "                \"4. Return a book\",\n",
    "                \"5. Logout\",\n",
    "            )\n",
    "        )\n",
    "\n",
    "        print(options)\n",
    "        choice = input(\"What to do?: \")\n",
    "\n",
    "        match choice:\n",
    "            case \"1\":\n",
    "                print(f\"\\nLoading Book Catalog:\\n{library.books}\")\n",
    "            case \"2\":\n",
    "                print(\n",
    "                    f\"\\nThese are the books you have Borrowed:\\n{user.borrowed_books}\"\n",
    "                )\n",
    "            case \"3\":\n",
    "                title = input(\"What is the title of the book you wish to borrow? \")\n",
    "                # to be completed soon\n",
    "            case \"4\":\n",
    "                print(\"... Not implemented...\")\n",
    "            case \"5\":\n",
    "                show_main_menu()\n",
    "            case _:\n",
    "                print(\"Invalid entry, try again!\")"
   ]
  },
  {
   "cell_type": "code",
   "execution_count": null,
   "metadata": {
    "slideshow": {
     "slide_type": "notes"
    }
   },
   "outputs": [],
   "source": [
    "# wrapping up"
   ]
  },
  {
   "cell_type": "code",
   "execution_count": null,
   "metadata": {
    "slideshow": {
     "slide_type": "slide"
    }
   },
   "outputs": [],
   "source": [
    "# showcase how it works with main.py"
   ]
  },
  {
   "cell_type": "code",
   "execution_count": null,
   "metadata": {
    "slideshow": {
     "slide_type": "slide"
    }
   },
   "outputs": [],
   "source": [
    "if __name__ == \"__main__\":\n",
    "\n",
    "    d_create_default_admins()\n",
    "\n",
    "    show_main_menu()\n"
   ]
  },
  {
   "cell_type": "code",
   "execution_count": null,
   "metadata": {
    "slideshow": {
     "slide_type": "slide"
    }
   },
   "outputs": [],
   "source": [
    "# end of presentation remarks"
   ]
  }
 ],
 "metadata": {
  "celltoolbar": "Slideshow",
  "kernelspec": {
   "display_name": "Python 3 (ipykernel)",
   "language": "python",
   "name": "python3"
  },
  "language_info": {
   "codemirror_mode": {
    "name": "ipython",
    "version": 3
   },
   "file_extension": ".py",
   "mimetype": "text/x-python",
   "name": "python",
   "nbconvert_exporter": "python",
   "pygments_lexer": "ipython3",
   "version": "3.10.4"
  },
  "vscode": {
   "interpreter": {
    "hash": "31f2aee4e71d21fbe5cf8b01ff0e069b9275f58929596ceb00d14d90e3e16cd6"
   }
  }
 },
 "nbformat": 4,
 "nbformat_minor": 2
}
